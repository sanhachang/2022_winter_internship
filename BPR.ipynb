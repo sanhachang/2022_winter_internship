{
 "cells": [
  {
   "cell_type": "code",
   "execution_count": 1,
   "id": "7ebc99b9-c4a5-4181-a554-65ebf16c1ed2",
   "metadata": {},
   "outputs": [],
   "source": [
    "import pandas as pd\n",
    "import numpy as np\n",
    "import warnings\n",
    "from sklearn.metrics import roc_auc_score\n",
    "warnings.filterwarnings('ignore')\n",
    "import matplotlib.pyplot as plt"
   ]
  },
  {
   "cell_type": "code",
   "execution_count": 2,
   "id": "4d73ec99-d8bd-4083-b742-d7ec9e58ff2d",
   "metadata": {},
   "outputs": [],
   "source": [
    "def data_pre(df):\n",
    "    df = df[['userId','movieId','rating']]\n",
    "\n",
    "    User = pd.DataFrame(df[['userId']].value_counts())\n",
    "    User.reset_index(inplace = True)\n",
    "    User = User[User[0] > 9]\n",
    "\n",
    "    Item = pd.DataFrame(df[['movieId']].value_counts())\n",
    "    Item.reset_index(inplace = True)\n",
    "    Item = Item[Item[0] > 9]\n",
    "\n",
    "    final_user = User['userId'].unique()\n",
    "    final_item = Item['movieId'].unique()\n",
    "\n",
    "    df = df[df['movieId'].isin(final_item)]\n",
    "    df = df[df['userId'].isin(final_user)]\n",
    "    df = df.reset_index(drop = True)\n",
    "    \n",
    "    return df"
   ]
  },
  {
   "cell_type": "code",
   "execution_count": 3,
   "id": "f862e4d9-1eec-44a3-95a5-d190d65c673c",
   "metadata": {},
   "outputs": [],
   "source": [
    "def pair_mat(df):\n",
    "    user_set = sorted(df['userId'].unique())\n",
    "    item_set = sorted(df['movieId'].unique())\n",
    "\n",
    "    n_users = len(user_set)\n",
    "    n_items = len(item_set)\n",
    "\n",
    "    pair_mat = np.zeros((n_users, n_items))\n",
    "    pair_mat = pd.DataFrame(pair_mat, index = user_set, columns = item_set)\n",
    "\n",
    "    for i in range(len(df)):\n",
    "        pair_mat.loc[df.loc[i,'userId']][df.loc[i,'movieId']] = 1\n",
    "    \n",
    "    return pair_mat"
   ]
  },
  {
   "cell_type": "code",
   "execution_count": 4,
   "id": "f17c37f7-2214-4cba-ad62-86fdeac7ff2d",
   "metadata": {},
   "outputs": [],
   "source": [
    "def test_train_split(pair_mat): \n",
    "    test_list = []\n",
    "    train_mat = pair_mat.copy()\n",
    "\n",
    "    for i in range(train_mat.shape[0]):\n",
    "        temp = train_mat.iloc[i,:]\n",
    "        test_idx = np.random.choice(np.where(temp == 1)[0])\n",
    "        train_mat.iloc[i,test_idx] = 0\n",
    "        test_list.append((i,test_idx))\n",
    "    \n",
    "    return test_list, train_mat"
   ]
  },
  {
   "cell_type": "code",
   "execution_count": 5,
   "id": "3e81af06-ebcf-4277-be86-a026ca63bcfd",
   "metadata": {},
   "outputs": [],
   "source": [
    "def bootstrap(train_mat): \n",
    "    u = np.random.choice(range(train_mat.shape[0]))\n",
    "    temp = train_mat.iloc[u,:]\n",
    "    i = np.random.choice(np.where(temp == 1)[0])\n",
    "    j = np.random.choice(np.where(temp == 0)[0])\n",
    "    return (u,i,j)"
   ]
  },
  {
   "cell_type": "code",
   "execution_count": 6,
   "id": "d8e89e92-40a3-4f04-bc9d-02c3441a9878",
   "metadata": {},
   "outputs": [],
   "source": [
    "def run(train_mat):\n",
    "    n_dim, epoch, learning_rate, ld = 20, 500000, 0.01, 0.0001\n",
    "\n",
    "    user_mat = np.random.random((train_mat.shape[0], n_dim))\n",
    "    item_mat = np.random.random((train_mat.shape[1], n_dim))\n",
    "\n",
    "    pred, aucs, epochs = [], [], []\n",
    "\n",
    "    for epoch in range(epoch):\n",
    "        u, i, j = bootstrap(train_mat)\n",
    "        \n",
    "        W_u, H_i ,H_j  = user_mat[u, : ], item_mat[i, : ], item_mat[j, : ]\n",
    "        \n",
    "        x_uij = np.dot(W_u, H_i) - np.dot(W_u, H_j) # x_ui - x_uj\n",
    "\n",
    "        grad = np.exp(-x_uij) / (1 + np.exp(-x_uij))\n",
    "\n",
    "        user_mat[u, : ] = user_mat[u, : ] + learning_rate * (grad * (H_i - H_j) + ld * (W_u))\n",
    "        item_mat[i, : ] = item_mat[i, : ] + learning_rate * (grad * W_u + ld * (H_i))\n",
    "        item_mat[j, : ] = item_mat[j, : ] + learning_rate * (-(grad * W_u) + ld * (H_j))\n",
    "\n",
    "        pred.append(x_uij)\n",
    "\n",
    "        if epoch % 10000 == 0 :\n",
    "            auc = np.where(np.array(pred) > 0, 1, 0).mean()\n",
    "            epochs.append(epoch)\n",
    "            aucs.append(auc)\n",
    "            \n",
    "    return epochs, aucs"
   ]
  },
  {
   "cell_type": "code",
   "execution_count": 7,
   "id": "d69a7a7b-b52a-49e6-af06-da5dc694681c",
   "metadata": {},
   "outputs": [
    {
     "data": {
      "image/png": "[encoded data removed]",
      "text/plain": [
       "<Figure size 432x288 with 1 Axes>"
      ]
     },
     "metadata": {
      "needs_background": "light"
     },
     "output_type": "display_data"
    }
   ],
   "source": [
    "df = pd.read_csv(\"ratings.csv\")\n",
    "\n",
    "df = data_pre(df)\n",
    "\n",
    "pair_mat = pair_mat(df)\n",
    "\n",
    "test_list, train_mat = test_train_split(pair_mat)\n",
    "\n",
    "epochs, aucs = run(train_mat)\n",
    "\n",
    "aucs[0]= 0\n",
    "\n",
    "plt.plot(epochs, aucs)\n",
    "plt.show()"
   ]
  }
 ],
 "metadata": {
  "kernelspec": {
   "display_name": "Python 3 (ipykernel)",
   "language": "python",
   "name": "python3"
  },
  "language_info": {
   "codemirror_mode": {
    "name": "ipython",
    "version": 3
   },
   "file_extension": ".py",
   "mimetype": "text/x-python",
   "name": "python",
   "nbconvert_exporter": "python",
   "pygments_lexer": "ipython3",
   "version": "3.9.13"
  }
 },
 "nbformat": 4,
 "nbformat_minor": 5
}
